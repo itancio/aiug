{
 "cells": [
  {
   "cell_type": "code",
   "execution_count": 1,
   "metadata": {},
   "outputs": [
    {
     "name": "stdout",
     "output_type": "stream",
     "text": [
      "Collecting langchain-huggingface\n",
      "  Downloading langchain_huggingface-0.0.3-py3-none-any.whl.metadata (1.2 kB)\n",
      "Requirement already satisfied: huggingface-hub>=0.23.0 in /Users/rickchakra/Projects/aiug_workshop/venv/lib/python3.9/site-packages (from langchain-huggingface) (0.23.4)\n",
      "Requirement already satisfied: langchain-core<0.3,>=0.1.52 in /Users/rickchakra/Projects/aiug_workshop/venv/lib/python3.9/site-packages (from langchain-huggingface) (0.2.17)\n",
      "Requirement already satisfied: sentence-transformers>=2.6.0 in /Users/rickchakra/Projects/aiug_workshop/venv/lib/python3.9/site-packages (from langchain-huggingface) (3.0.1)\n",
      "Requirement already satisfied: tokenizers>=0.19.1 in /Users/rickchakra/Projects/aiug_workshop/venv/lib/python3.9/site-packages (from langchain-huggingface) (0.19.1)\n",
      "Requirement already satisfied: transformers>=4.39.0 in /Users/rickchakra/Projects/aiug_workshop/venv/lib/python3.9/site-packages (from langchain-huggingface) (4.42.4)\n",
      "Requirement already satisfied: filelock in /Users/rickchakra/Projects/aiug_workshop/venv/lib/python3.9/site-packages (from huggingface-hub>=0.23.0->langchain-huggingface) (3.15.4)\n",
      "Requirement already satisfied: fsspec>=2023.5.0 in /Users/rickchakra/Projects/aiug_workshop/venv/lib/python3.9/site-packages (from huggingface-hub>=0.23.0->langchain-huggingface) (2024.5.0)\n",
      "Requirement already satisfied: packaging>=20.9 in /Users/rickchakra/Projects/aiug_workshop/venv/lib/python3.9/site-packages (from huggingface-hub>=0.23.0->langchain-huggingface) (24.1)\n",
      "Requirement already satisfied: pyyaml>=5.1 in /Users/rickchakra/Projects/aiug_workshop/venv/lib/python3.9/site-packages (from huggingface-hub>=0.23.0->langchain-huggingface) (6.0.1)\n",
      "Requirement already satisfied: requests in /Users/rickchakra/Projects/aiug_workshop/venv/lib/python3.9/site-packages (from huggingface-hub>=0.23.0->langchain-huggingface) (2.32.3)\n",
      "Requirement already satisfied: tqdm>=4.42.1 in /Users/rickchakra/Projects/aiug_workshop/venv/lib/python3.9/site-packages (from huggingface-hub>=0.23.0->langchain-huggingface) (4.66.4)\n",
      "Requirement already satisfied: typing-extensions>=3.7.4.3 in /Users/rickchakra/Projects/aiug_workshop/venv/lib/python3.9/site-packages (from huggingface-hub>=0.23.0->langchain-huggingface) (4.12.2)\n",
      "Requirement already satisfied: jsonpatch<2.0,>=1.33 in /Users/rickchakra/Projects/aiug_workshop/venv/lib/python3.9/site-packages (from langchain-core<0.3,>=0.1.52->langchain-huggingface) (1.33)\n",
      "Requirement already satisfied: langsmith<0.2.0,>=0.1.75 in /Users/rickchakra/Projects/aiug_workshop/venv/lib/python3.9/site-packages (from langchain-core<0.3,>=0.1.52->langchain-huggingface) (0.1.85)\n",
      "Requirement already satisfied: pydantic<3,>=1 in /Users/rickchakra/Projects/aiug_workshop/venv/lib/python3.9/site-packages (from langchain-core<0.3,>=0.1.52->langchain-huggingface) (2.8.2)\n",
      "Requirement already satisfied: tenacity!=8.4.0,<9.0.0,>=8.1.0 in /Users/rickchakra/Projects/aiug_workshop/venv/lib/python3.9/site-packages (from langchain-core<0.3,>=0.1.52->langchain-huggingface) (8.5.0)\n",
      "Requirement already satisfied: torch>=1.11.0 in /Users/rickchakra/Projects/aiug_workshop/venv/lib/python3.9/site-packages (from sentence-transformers>=2.6.0->langchain-huggingface) (2.3.1)\n",
      "Requirement already satisfied: numpy in /Users/rickchakra/Projects/aiug_workshop/venv/lib/python3.9/site-packages (from sentence-transformers>=2.6.0->langchain-huggingface) (1.26.4)\n",
      "Requirement already satisfied: scikit-learn in /Users/rickchakra/Projects/aiug_workshop/venv/lib/python3.9/site-packages (from sentence-transformers>=2.6.0->langchain-huggingface) (1.5.1)\n",
      "Requirement already satisfied: scipy in /Users/rickchakra/Projects/aiug_workshop/venv/lib/python3.9/site-packages (from sentence-transformers>=2.6.0->langchain-huggingface) (1.13.1)\n",
      "Requirement already satisfied: Pillow in /Users/rickchakra/Projects/aiug_workshop/venv/lib/python3.9/site-packages (from sentence-transformers>=2.6.0->langchain-huggingface) (10.4.0)\n",
      "Requirement already satisfied: regex!=2019.12.17 in /Users/rickchakra/Projects/aiug_workshop/venv/lib/python3.9/site-packages (from transformers>=4.39.0->langchain-huggingface) (2024.5.15)\n",
      "Requirement already satisfied: safetensors>=0.4.1 in /Users/rickchakra/Projects/aiug_workshop/venv/lib/python3.9/site-packages (from transformers>=4.39.0->langchain-huggingface) (0.4.3)\n",
      "Requirement already satisfied: jsonpointer>=1.9 in /Users/rickchakra/Projects/aiug_workshop/venv/lib/python3.9/site-packages (from jsonpatch<2.0,>=1.33->langchain-core<0.3,>=0.1.52->langchain-huggingface) (3.0.0)\n",
      "Requirement already satisfied: orjson<4.0.0,>=3.9.14 in /Users/rickchakra/Projects/aiug_workshop/venv/lib/python3.9/site-packages (from langsmith<0.2.0,>=0.1.75->langchain-core<0.3,>=0.1.52->langchain-huggingface) (3.10.6)\n",
      "Requirement already satisfied: annotated-types>=0.4.0 in /Users/rickchakra/Projects/aiug_workshop/venv/lib/python3.9/site-packages (from pydantic<3,>=1->langchain-core<0.3,>=0.1.52->langchain-huggingface) (0.7.0)\n",
      "Requirement already satisfied: pydantic-core==2.20.1 in /Users/rickchakra/Projects/aiug_workshop/venv/lib/python3.9/site-packages (from pydantic<3,>=1->langchain-core<0.3,>=0.1.52->langchain-huggingface) (2.20.1)\n",
      "Requirement already satisfied: charset-normalizer<4,>=2 in /Users/rickchakra/Projects/aiug_workshop/venv/lib/python3.9/site-packages (from requests->huggingface-hub>=0.23.0->langchain-huggingface) (3.3.2)\n",
      "Requirement already satisfied: idna<4,>=2.5 in /Users/rickchakra/Projects/aiug_workshop/venv/lib/python3.9/site-packages (from requests->huggingface-hub>=0.23.0->langchain-huggingface) (3.7)\n",
      "Requirement already satisfied: urllib3<3,>=1.21.1 in /Users/rickchakra/Projects/aiug_workshop/venv/lib/python3.9/site-packages (from requests->huggingface-hub>=0.23.0->langchain-huggingface) (2.2.2)\n",
      "Requirement already satisfied: certifi>=2017.4.17 in /Users/rickchakra/Projects/aiug_workshop/venv/lib/python3.9/site-packages (from requests->huggingface-hub>=0.23.0->langchain-huggingface) (2024.7.4)\n",
      "Requirement already satisfied: sympy in /Users/rickchakra/Projects/aiug_workshop/venv/lib/python3.9/site-packages (from torch>=1.11.0->sentence-transformers>=2.6.0->langchain-huggingface) (1.13.0)\n",
      "Requirement already satisfied: networkx in /Users/rickchakra/Projects/aiug_workshop/venv/lib/python3.9/site-packages (from torch>=1.11.0->sentence-transformers>=2.6.0->langchain-huggingface) (3.2.1)\n",
      "Requirement already satisfied: jinja2 in /Users/rickchakra/Projects/aiug_workshop/venv/lib/python3.9/site-packages (from torch>=1.11.0->sentence-transformers>=2.6.0->langchain-huggingface) (3.1.4)\n",
      "Requirement already satisfied: joblib>=1.2.0 in /Users/rickchakra/Projects/aiug_workshop/venv/lib/python3.9/site-packages (from scikit-learn->sentence-transformers>=2.6.0->langchain-huggingface) (1.4.2)\n",
      "Requirement already satisfied: threadpoolctl>=3.1.0 in /Users/rickchakra/Projects/aiug_workshop/venv/lib/python3.9/site-packages (from scikit-learn->sentence-transformers>=2.6.0->langchain-huggingface) (3.5.0)\n",
      "Requirement already satisfied: MarkupSafe>=2.0 in /Users/rickchakra/Projects/aiug_workshop/venv/lib/python3.9/site-packages (from jinja2->torch>=1.11.0->sentence-transformers>=2.6.0->langchain-huggingface) (2.1.5)\n",
      "Requirement already satisfied: mpmath<1.4,>=1.1.0 in /Users/rickchakra/Projects/aiug_workshop/venv/lib/python3.9/site-packages (from sympy->torch>=1.11.0->sentence-transformers>=2.6.0->langchain-huggingface) (1.3.0)\n",
      "Downloading langchain_huggingface-0.0.3-py3-none-any.whl (17 kB)\n",
      "Installing collected packages: langchain-huggingface\n",
      "Successfully installed langchain-huggingface-0.0.3\n",
      "Note: you may need to restart the kernel to use updated packages.\n"
     ]
    }
   ],
   "source": [
    "pip install langchain-huggingface"
   ]
  },
  {
   "cell_type": "code",
   "execution_count": null,
   "metadata": {},
   "outputs": [
    {
     "data": {
      "application/vnd.jupyter.widget-view+json": {
       "model_id": "6c192f439f7b4e0d84caf33636b9c678",
       "version_major": 2,
       "version_minor": 0
      },
      "text/plain": [
       "VBox(children=(HTML(value='<center> <img\\nsrc=https://huggingface.co/front/assets/huggingface_logo-noborder.sv…"
      ]
     },
     "metadata": {},
     "output_type": "display_data"
    }
   ],
   "source": [
    "from huggingface_hub import login\n",
    "login()"
   ]
  },
  {
   "cell_type": "code",
   "execution_count": null,
   "metadata": {},
   "outputs": [],
   "source": [
    "from langchain_huggingface import HuggingFaceEndpoint, ChatHuggingFace\n",
    "\n",
    "llm = HuggingFaceEndpoint(\n",
    "    repo_id=\"microsoft/Phi-3-mini-4k-instruct\",\n",
    "    task=\"text-generation\",\n",
    "    max_new_tokens=512,\n",
    "    do_sample=False,\n",
    "    repetition_penalty=1.03,\n",
    ")\n",
    "\n",
    "chat = ChatHuggingFace(llm=llm, verbose=True)"
   ]
  },
  {
   "cell_type": "code",
   "execution_count": null,
   "metadata": {},
   "outputs": [],
   "source": []
  }
 ],
 "metadata": {
  "kernelspec": {
   "display_name": "venv",
   "language": "python",
   "name": "python3"
  },
  "language_info": {
   "codemirror_mode": {
    "name": "ipython",
    "version": 3
   },
   "file_extension": ".py",
   "mimetype": "text/x-python",
   "name": "python",
   "nbconvert_exporter": "python",
   "pygments_lexer": "ipython3",
   "version": "3.9.6"
  }
 },
 "nbformat": 4,
 "nbformat_minor": 2
}
