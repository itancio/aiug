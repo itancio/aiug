{
 "cells": [
  {
   "cell_type": "markdown",
   "metadata": {},
   "source": [
    "# 1. The basics - making an API request"
   ]
  },
  {
   "cell_type": "code",
   "execution_count": null,
   "metadata": {},
   "outputs": [],
   "source": [
    "!pip3 install --upgrade pip"
   ]
  },
  {
   "cell_type": "code",
   "execution_count": null,
   "metadata": {},
   "outputs": [],
   "source": [
    "!pip3 install openai python-dotenv streamlit"
   ]
  },
  {
   "cell_type": "code",
   "execution_count": null,
   "metadata": {},
   "outputs": [],
   "source": [
    "# import required packages\n",
    "\n",
    "# FILL IN\n",
    "import json\n",
    "from dotenv import load_dotenv\n",
    "from pprint import pprint\n",
    "import re\n",
    "\n",
    "load_dotenv()"
   ]
  },
  {
   "cell_type": "code",
   "execution_count": null,
   "metadata": {},
   "outputs": [],
   "source": [
    "# FILL IN"
   ]
  },
  {
   "cell_type": "markdown",
   "metadata": {},
   "source": [
    "### Basic chat completion"
   ]
  },
  {
   "cell_type": "code",
   "execution_count": null,
   "metadata": {},
   "outputs": [],
   "source": [
    "completion # FILL\n",
    "  model= # FILL IN\n",
    "  messages=[\n",
    "    {\"role\": \"system\", \"content\": \"You are an expert fitness trainer that specializes in helping people prep for the first competitive event.\"},\n",
    "    {\"role\": \"user\", \"content\": \"Provide me with a training plan to prepare for my 5k in 4 weeks. I want to run it in under 28 minutes.\"}\n",
    "  ],\n",
    "  temperature= # FILL IN\n",
    "  max_tokens= # FILL IN\n",
    "  seed= # FILL IN\n",
    "  \n",
    ")\n",
    "print(...)"
   ]
  },
  {
   "cell_type": "code",
   "execution_count": null,
   "metadata": {},
   "outputs": [],
   "source": [
    "# view response\n",
    "# FILL IN"
   ]
  },
  {
   "cell_type": "markdown",
   "metadata": {},
   "source": [
    "### JSON Mode"
   ]
  },
  {
   "cell_type": "code",
   "execution_count": null,
   "metadata": {},
   "outputs": [],
   "source": [
    "completion = client.chat.completions.create(\n",
    "  model=\"gpt-3.5-turbo-0125\",\n",
    "  messages=[\n",
    "    {\"role\": \"system\", \"content\": \"You are an expert fitness trainer that specializes in helping people prep for the first competitive event. \\\n",
    "      You respond in a JSON format, where the keys represent weeks and days, and the values contain the training plan.\"},\n",
    "    {\"role\": \"user\", \"content\": \"Provide me with a training plan to prepare for my 5k in 4 weeks. I want to run it in under 28 minutes.\"}\n",
    "  ],\n",
    "  temperature=1,\n",
    "  max_tokens=1024,\n",
    "  seed=42,\n",
    "  # FILL IN\n",
    "  \n",
    ")\n",
    "\n",
    "print(completion.choices[0].message.content)\n"
   ]
  },
  {
   "cell_type": "markdown",
   "metadata": {},
   "source": [
    "### Streaming Mode"
   ]
  },
  {
   "cell_type": "code",
   "execution_count": null,
   "metadata": {},
   "outputs": [],
   "source": [
    "completion = client.chat.completions.create(\n",
    "  model=\"gpt-3.5-turbo-0125\",\n",
    "  messages=[\n",
    "    {\"role\": \"system\", \"content\": \"You are an expert fitness trainer that specializes in helping people prep for the first competitive event.\"},\n",
    "    {\"role\": \"user\", \"content\": \"Provide me with a training plan to prepare for my 5k in 4 weeks. I want to run it in under 28 minutes.\"}\n",
    "  ],\n",
    "  temperature=1,\n",
    "  max_tokens=1024,\n",
    "  seed=42,\n",
    "  # FILL IN\n",
    "  \n",
    ")\n",
    "\n",
    "for chunk in completion:\n",
    "  print(chunk.choices[0].delta.content)\n"
   ]
  },
  {
   "cell_type": "markdown",
   "metadata": {},
   "source": [
    "# 2. Using Tools"
   ]
  },
  {
   "cell_type": "markdown",
   "metadata": {},
   "source": [
    "Get Current Weather - Dummy Tool"
   ]
  },
  {
   "cell_type": "code",
   "execution_count": null,
   "metadata": {},
   "outputs": [],
   "source": [
    "# define dummy tool function\n",
    "def get_current_weather(location, unit='fahreinheit'):\n",
    "    if 'tokyo' in location.lower():\n",
    "        return json.dumps({'location': 'Tokyo', 'temperature': '10', 'unit': unit})\n",
    "    elif 'san francisco' in location.lower():\n",
    "        return json.dumps({'location': 'San Francisco', 'temperature': '72', 'unit': unit})\n",
    "    elif 'paris' in location.lower():\n",
    "        return json.dumps({'location': 'Tokyo', 'temperature': '22', 'unit': unit})\n",
    "    else:\n",
    "        return json.dumps({\"location\": location, \"temperature\": \"unknown\"})"
   ]
  },
  {
   "cell_type": "code",
   "execution_count": null,
   "metadata": {},
   "outputs": [],
   "source": [
    "def run_conversation(user_input):\n",
    "    messages = # FILL IN\n",
    "    tools = [\n",
    "        {\n",
    "            'type': # FILL IN\n",
    "            'function': {\n",
    "                'name': # FILL IN\n",
    "                'description': # FILL IN\n",
    "                'parameters': {\n",
    "                    'type': 'object',\n",
    "                    'properties': {\n",
    "                        # FILL IN\n",
    "                        'unit': {'type': 'string', 'enum': ['celsius', 'fahreinheit']}\n",
    "\n",
    "                        },\n",
    "                        'required': # FILL IN\n",
    "                    }\n",
    "                }\n",
    "            }\n",
    "    ]\n",
    "    \n",
    "    # call model and give it tools\n",
    "    response = client.chat.completions.create(\n",
    "        model= # FILL IN\n",
    "        messages=messages,\n",
    "        tools= # FILL IN\n",
    "        tool_choice= # FILL IN\n",
    "    )\n",
    "\n",
    "    # print out model response\n",
    "    response_message = response.choices[0].message\n",
    "    print('Tool Call Response:')\n",
    "    # FILL IN\n",
    "    print()\n",
    "\n",
    "    # print out if model chose to call a tool\n",
    "    tool_calls = response_message.tool_calls\n",
    "    print('Tool Calls:')\n",
    "    # FILL IN\n",
    "    print()\n",
    "    \n",
    "    # if a tool was called, extract tool arguments and execute tool\n",
    "    if # FILL IN\n",
    "        available_functions = {\n",
    "            \"get_current_weather\": get_current_weather,\n",
    "        }\n",
    "        messages.append(response_message)\n",
    "        for # FILL IN\n",
    "            function_name = # FILL IN\n",
    "            function_to_call = available_functions[function_name]\n",
    "            function_args = # FILL IN\n",
    "            function_response = function_to_call(\n",
    "                location= # FILL\n",
    "                unit=function_args.get(\"unit\")\n",
    "            )        \n",
    "            # append tool response to messages\n",
    "            messages.append({\n",
    "                \"tool_call_id\": tool_call.id,\n",
    "                \"role\": \"tool\",\n",
    "                \"name\": function_name,\n",
    "                \"content\": # FILL IN\n",
    "            })\n",
    "        # call model again with updated messages\n",
    "        second_response = client.chat.completions.create(\n",
    "            model=\"gpt-4o\",\n",
    "            messages= # FILL IN\n",
    "        )\n",
    "        return second_response.choices[0].message.content"
   ]
  },
  {
   "cell_type": "code",
   "execution_count": null,
   "metadata": {},
   "outputs": [],
   "source": [
    "# Test function calling\n",
    "user_input = # FILL IN\n",
    "response = # FILL IN\n",
    "\n",
    "print((\"Tool Output:\"))\n",
    "print(f'User: {user_input}')\n",
    "print(f'Assistant: {response}')"
   ]
  },
  {
   "cell_type": "markdown",
   "metadata": {},
   "source": [
    "# 3. Key prompting techniques"
   ]
  },
  {
   "cell_type": "code",
   "execution_count": null,
   "metadata": {},
   "outputs": [],
   "source": [
    "cot_fsp_system_prompt = \"\"\"You are a health and fitness coach specializing in preparing people for athletic events like 5K runs, mud runs, and triathlons. \n",
    "Think step by step to create a personalized training plan. \n",
    "Produce your thinking output in <thinking> tags and your client-facing message output in <message> tags. \n",
    "Ask a few questions to understand the client's needs and then suggest a training plan. \n",
    "Answer simply and avoid overly narrating. Only ask 1 question at a time\n",
    "\n",
    "When talking to users, follow these examples:\n",
    "\n",
    "Example 1:\n",
    "User: I want to run a 5K in 8 weeks. How should I train?\n",
    "\n",
    "Assistant: <thinking> \n",
    "I need to:\n",
    "1. Determine user's current fitness level.\n",
    "2. Assess how many days per week the user can train.\n",
    "3. Create a progressive training plan that builds up to 5K over 8 weeks.\n",
    "I will start by asking about their current fitness level.\n",
    "</thinking>\n",
    "<message> \n",
    "To create a tailored training plan, I need to know:\n",
    "1. What is your current fitness level? (e.g., beginner, intermediate, advanced)\n",
    "</message>\n",
    "\n",
    "User: I'm a beginner\n",
    "Assistant: \n",
    "<thinking> \n",
    "I need to: \n",
    "1. Note the user's beginner status.\n",
    "2. Assess how many days per week the user can train.\n",
    "2. Create a progressive training plan that builds up to 5K over 8 weeks.\n",
    "</thinking>\n",
    "<message> \n",
    "Great! How many days per week can you commit to training?\n",
    "</message>\n",
    "\n",
    "User: I can train 3 days a week.\n",
    "Assistant: <thinking> \n",
    "I need to: \n",
    "1. Note the user's beginner status.\n",
    "2. Create a training plan that builds up to 5K with 3 days of training per week.\n",
    "3. Ensure the plan includes rest and recovery periods.\n",
    "</thinking>\n",
    "<message> \n",
    "Great! Here's a basic 8-week plan for a beginner training 3 days a week:\n",
    "- Weeks 1-2 : Walk/jog intervals for 20-30 minutes.\n",
    "- Weeks 3-4: Jog for 20-30 minutes.\n",
    "- Weeks 5-6: Jog for 30-40 minutes.\n",
    "- Weeks 7-8: Run for 30-40 minutes.\n",
    "Make sure to include rest days between training sessions.\n",
    "</message>\n",
    "\"\"\""
   ]
  },
  {
   "cell_type": "code",
   "execution_count": null,
   "metadata": {},
   "outputs": [],
   "source": [
    "# get response from model chat completion\n",
    "def get_response(messages):\n",
    "  completion = client.chat.completions.create(\n",
    "    model=\"gpt-3.5-turbo-0125\",\n",
    "    messages=messages,\n",
    "    temperature=1,\n",
    "    max_tokens=1024,\n",
    "    seed=42\n",
    "    \n",
    "  )\n",
    "  return completion.choices[0].message.content"
   ]
  },
  {
   "cell_type": "code",
   "execution_count": null,
   "metadata": {},
   "outputs": [],
   "source": [
    "# parse response to extract thinking and message content\n",
    "def parse_response(response):\n",
    "    thinking_pattern = # FILL IN\n",
    "    message_pattern = r\"<message>(.*?)</message>\"\n",
    "\n",
    "    thinking = re.findall(\"*** FILL IN ***\", re.DOTALL)\n",
    "    message = re.findall(message_pattern, response, re.DOTALL)\n",
    "\n",
    "    return (thinking[0] if thinking else \"\", message[0] if message else \"\")"
   ]
  },
  {
   "cell_type": "code",
   "execution_count": null,
   "metadata": {},
   "outputs": [],
   "source": [
    "messages=[\n",
    "    {\"role\": \"system\", \"content\": # FILL IN\n",
    "  ]\n",
    "\n",
    "while True:\n",
    "  user_input = input(\"Enter your message...\")\n",
    "  if user_input.lower() == \"quit\":\n",
    "    break\n",
    "  messages.append({\"role\": \"user\", \"content\": # FILL IN\n",
    "  print(f'User: {user_input}')\n",
    "\n",
    "  response = # FILL IN\n",
    "  messages.append({\"role\": \"assistant\", \"content\": response})\n",
    "\n",
    "  thinking, message = # FILL IN\n",
    "  print(f'Assistant thinking (internal): {thinking}')\n",
    "  print(f'Assistant message (external): {message}')"
   ]
  }
 ],
 "metadata": {
  "kernelspec": {
   "display_name": "venv",
   "language": "python",
   "name": "python3"
  },
  "language_info": {
   "codemirror_mode": {
    "name": "ipython",
    "version": 3
   },
   "file_extension": ".py",
   "mimetype": "text/x-python",
   "name": "python",
   "nbconvert_exporter": "python",
   "pygments_lexer": "ipython3",
   "version": "3.9.6"
  }
 },
 "nbformat": 4,
 "nbformat_minor": 2
}
